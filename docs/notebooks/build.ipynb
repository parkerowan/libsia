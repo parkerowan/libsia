{
 "cells": [
  {
   "cell_type": "markdown",
   "id": "a8372c5c",
   "metadata": {},
   "source": [
    "# Build\n",
    "\n",
    "- Install [Docker](https://www.docker.com/).  Check the included Dockerfile for project dependencies if you intend to build in your own environment.\n",
    "- Build the Docker container using `scripts/run --build`.\n",
    "- Launch the Docker container using `scripts/run --bash`.\n",
    "- Build and install the C++ package with cmake and make.\n",
    "```bash\n",
    "mkdir build && cd build\n",
    "cmake ..\n",
    "make && make install\n",
    "make test\n",
    "```\n",
    "- Build and install the Python bindings with pip (C++ library must be installed first in previous step).  In the root directory, run\n",
    "```bash\n",
    "pip install --upgrade .\n",
    "```"
   ]
  }
 ],
 "metadata": {
  "kernelspec": {
   "display_name": "Python 3",
   "language": "python",
   "name": "python3"
  },
  "language_info": {
   "codemirror_mode": {
    "name": "ipython",
    "version": 3
   },
   "file_extension": ".py",
   "mimetype": "text/x-python",
   "name": "python",
   "nbconvert_exporter": "python",
   "pygments_lexer": "ipython3",
   "version": "3.6.9"
  }
 },
 "nbformat": 4,
 "nbformat_minor": 5
}
