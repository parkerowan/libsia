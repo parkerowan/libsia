{
 "cells": [
  {
   "cell_type": "markdown",
   "id": "2e37472f",
   "metadata": {},
   "source": [
    "# Overview\n",
    "\n",
    "### What is model-based Reinforcement Learning?\n",
    "\n",
    "The graphical model below illustrates a Partially Observable Markov Decision Process (POMDP).  Input actions $u$ are applied to a system to influence its state $x$ and subsequent observations of the state $y$.  The system is Markov because the state is assumed to be a function of the state at the previous times $k-1$.  The POMDP can be separated into two problems.\n",
    "\n",
    "1. In the **optimal control problem**, the objective is to choose the action $u$ that minimizes the sum of costs $\\sum J_k$.  Because the state is Markov, the choice of $u$ at the current time affects future states and costs, which is what makes the problem challenging.  The state $x$ is assumed directly observable.\n",
    "\n",
    "2. Frequently the system is partially observable, i.e. the observation $y$ is directly measurable but the state $x$ is latent.  This motivates the **state estimation problem**, to recover the state $x$ from observations $y$ and previous states.  \n",
    "\n",
    "![Graphical Model for a POMDP](./pomdp.png)\n",
    "\n",
    "From the figure, we can see that 3 models comprise the POMDP.\n",
    "\n",
    "1. The dynamics model predicts future states $x_k$ from previous states $x_{k-1}$ and input actions $u_k$.  It describes how the state evolves in time.\n",
    "\n",
    "2. The measurement model predicts measurements $y$ from states $x$.\n",
    "\n",
    "3. The third model predicts the cost $J$ as a function of states $x$ and actions $u$.\n",
    "\n",
    "In model-based reinforcement learning, we learn the models from data and use algorithms that solve the control and estimation problems based on these models.  In Sia, we solve the optimal control problem using Model Predictive Control (MPC) and the estimation problem using recursive Bayesian estimation.  More on these in a bit.\n",
    "\n",
    "Because the dynamics and measurement models are learned and the state is considered uncertain, belief is a first-class concept in Sia.  Dynamics and measurement equations are represented as probabilistic inference models $p(x_k | x_{k-1}, u_k)$ and $p(y | x)$.  The state is represented as a probability $p(x)$.  The cost function is typically designed, but it could also be learned from data (see Inverse Reinforcement Learning).  More on these representations in a bit as well.\n",
    "\n",
    "There are a few things to note.  First, Sia uses a notion of cost typically found in optimal control.  Traditional reinforcement learning uses a notion of sum of rewards, which is just the negative of the cost.  Second, Sia deals in continuous (real vector) action and state spaces typically found in control.  Reinforcement learning often focuses on discrete actions and states.  Third, Sia provides representations that support both first principles and learned models, while reinforcement learning typically focuses on learned models.  From here on out, we'll drop the discussion of reinforcement learning and refer to modeling, control and estimation directly to avoid confusion.  \n",
    "\n",
    "One last point of importance.  The model is discrete time, which implies that there is a fixed time step between time indices.  Sia solves everything in discrete time, but provides continous time models that perform the discretization.  So if you formulate your dynamics in continuous time, don't worry, Sia will discretize them for you.\n",
    "\n",
    "### Basic Usage\n",
    "Sia is native C++, with Python bindings using Pybind11.  Python and C++ APIs are intended to match 1:1, so the Python documentation is helpful for both.  The C++ code uses Eigen for linear algebra, while the Python bindings use numpy."
   ]
  },
  {
   "cell_type": "code",
   "execution_count": 1,
   "id": "4e826c3e",
   "metadata": {},
   "outputs": [],
   "source": [
    "import pysia as sia\n",
    "import numpy as np\n",
    "\n",
    "# Run the Python help for API documentation\n",
    "# help(sia)"
   ]
  },
  {
   "cell_type": "markdown",
   "id": "b85d7c6c",
   "metadata": {},
   "source": [
    "### A Simple Example\n",
    "\n",
    "Now that we've gotten the theory out of the way, let's take a look at how to use Sia to solve a basic estimation and control problem.  Take a look at the nonholonomic vehicle in the diagram below.  The goal is to find a trajectory that takes the vehicle to the goal position and orientation.\n",
    "\n",
    "![Diagram for a nonholonomic vehicle](./unicycle.png)"
   ]
  },
  {
   "cell_type": "markdown",
   "id": "a1bf88cf",
   "metadata": {},
   "source": [
    "**Belief state.**  Let's start with a belief in our uncertain state.  This is typically called the state prior (i.e. a prior guess).  For the vehicle, we'll represent the system state as the position and orientation $(x, y, \\phi)$ of the vehicle.  For simplicity, let's assume the uncertainty is Gaussian.  Sia provides other uncertainty representations, for more information see the Belief tutorial.\n",
    "$$\n",
    "p(x) = \\mathcal{N}(x|\\mu, \\Sigma)\n",
    "$$\n",
    "\n",
    "Gaussian is a specialization of the `sia.Distribution` class.  Distributions provide methods for sampling and computing statistics such as log prob, mean, covariance, and mode."
   ]
  },
  {
   "cell_type": "code",
   "execution_count": 2,
   "id": "f55f5470",
   "metadata": {},
   "outputs": [],
   "source": [
    "Sigma = np.identity(3)\n",
    "mu = np.array([0.4, 0, 0.1])  # x, y, phi\n",
    "belief = sia.Gaussian(mean=mu, covariance=Sigma)"
   ]
  },
  {
   "cell_type": "markdown",
   "id": "b21961c7",
   "metadata": {},
   "source": [
    "**Dynamics model.**  For simplicity, we'll use the unicycle model to model the vehicle kinematics.  In Sia, we can use the `sia.NonlinearGaussianDynamicsCT` class to define the nonlinear function with additive Gaussian noise of the form\n",
    "$$\n",
    "\\dot{x} = f(x, u) + \\eta, \\quad \\eta \\sim \\mathcal{N}(0, Q)\n",
    "$$\n",
    "\n",
    "Assume that the actions are the linear and angular velocities $u = (v, \\omega)$.  We use the Gaussian noise to represent uncertainty in the process, e.g. due to unmodeled dynamics such as friction.  We can model the function $f$ for the unicycle\n",
    "$$\n",
    "\\begin{pmatrix}\n",
    "\\dot{x} \\\\\n",
    "\\dot{y} \\\\\n",
    "\\dot{\\phi}\n",
    "\\end{pmatrix} = \\begin{pmatrix}\n",
    "v \\cos(\\phi) \\\\\n",
    "v \\sin(\\phi) \\\\\n",
    "\\omega\n",
    "\\end{pmatrix}\n",
    "$$\n",
    "\n",
    "For nonlinear systems, we can define lambda functions for the dynamics $f$.  Sia provides classes to handle both discrete time and continuous time (with methods to discretize) models.  For more information see the Models tutorials."
   ]
  },
  {
   "cell_type": "code",
   "execution_count": 3,
   "id": "3ea72e8d",
   "metadata": {},
   "outputs": [],
   "source": [
    "# Define the unicycle model\n",
    "# state = (x, y, \\phi)\n",
    "# action = (v, \\omega)\n",
    "f = lambda x, u: np.array([u[0] * np.cos(x[2]), u[0] * np.sin(x[2]), u[1]])\n",
    "\n",
    "# Define the process noise\n",
    "Q = 1e-6 * np.eye(3)\n",
    "\n",
    "# Create the dynamics model\n",
    "dynamics = sia.NonlinearGaussianDynamicsCT(dynamics=f, Qpsd=Q, dt=0.1)"
   ]
  },
  {
   "cell_type": "markdown",
   "id": "b5131727",
   "metadata": {},
   "source": [
    "**Measurement model.**  Let's assume that we can measure both the $x, y$ positions of the vehicle, but we can't directly measure the orientation $\\phi$.  While the dynamics equation above is nonlinear, this measurement equation is linear.  In Sia, we can use the `sia.LinearGaussianMeasurementCT` class to define a measurement of the form\n",
    "$$\n",
    "y = H x + \\epsilon, \\quad \\epsilon \\sim \\mathcal{N}(0, R)\n",
    "$$\n",
    "\n",
    "Similar to the dynamics, Sia provides classes to handle both discrete time and continuous time (with methods to discretize) models.  For more information see the Models tutorials."
   ]
  },
  {
   "cell_type": "code",
   "execution_count": 4,
   "id": "4ebf4f7b",
   "metadata": {},
   "outputs": [],
   "source": [
    "# Define the measurement equation, assume we cannot directly observe the orientation\n",
    "# state = (x, y, \\phi)\n",
    "# action = (v, \\omega)\n",
    "H = np.array([[1, 0, 0], [0, 1, 0]])\n",
    "\n",
    "# Define the measurement noise\n",
    "R = 1e-5 * np.eye(2)\n",
    "\n",
    "# Create the measurement model\n",
    "measurement = sia.LinearGaussianMeasurementCT(H=H, Rpsd=R, dt=0.1)"
   ]
  },
  {
   "cell_type": "markdown",
   "id": "79791b27",
   "metadata": {},
   "source": [
    "**State estimator.**  In order to reach the goal, we'll need to estimate the latent state $\\phi$ from the measurements of $(x, y)$.  For nonlinear Gaussian dynamics, the `sia.EKF` estimator is appropirate to perform the belief state update.  Sia provides other estimators such as the Kalman Filter `sia.KF` and particle filter `sia.PF` which are appropriate for different models.  For more information, see the Estimators tutorial."
   ]
  },
  {
   "cell_type": "code",
   "execution_count": 5,
   "id": "3cda8297",
   "metadata": {},
   "outputs": [],
   "source": [
    "# Create the estimator\n",
    "ekf = sia.EKF(dynamics, measurement, belief)"
   ]
  },
  {
   "cell_type": "markdown",
   "id": "19dc7aee",
   "metadata": {},
   "source": [
    "**Model predictive controller.** The objective is to drive the robot to the goal state $(x,y,\\phi)_{goal}$.  We can formulate this goal as a `sia.QuadraticCost` around the state and input and use the `sia.iLQR` to perform the control.  The general form of the model predictive controller is a policy \n",
    "\\begin{align}\n",
    "u^* &= \\arg\\min_u J(x, u)\\\\\n",
    "&s.t. \\begin{array}{l}\n",
    "\\dot{x} = f(x, u) \\\\\n",
    "x_0 = x_k \n",
    "\\end{array}\\\\\n",
    "\\end{align}\n",
    "where the policy finds the optimal control for a cost function over a finite time horizon.  Each new belief update is used as the initial condition of the next optimization problem, which is seeded by the previous problem.  Available controllers include linear quadratic `sia.LQR`, iterative `sia.iLQR`, and model predictive path integrals `sia.MPPI`.  See the Controllers tutorial for more information."
   ]
  },
  {
   "cell_type": "code",
   "execution_count": 6,
   "id": "d29c643b",
   "metadata": {},
   "outputs": [],
   "source": [
    "# Define the cost\n",
    "Qf = np.diag([10, 10, 3])      # final state cost\n",
    "Q = np.zeros((3, 3))           # running state cost\n",
    "R = np.diag([1, 1])            # running control cost\n",
    "xd = np.array([0, 0, 3.1416])  # desired state\n",
    "cost = sia.QuadraticCost(Qf, Q, R, xd)\n",
    "\n",
    "# Define the initial control for a horizon of T = 40 time steps\n",
    "T = 50\n",
    "u0 = [np.array([0, 0]) for i in range(T)]\n",
    "\n",
    "# Create the controller\n",
    "ilqr = sia.iLQR(dynamics, cost, u0, max_iter=10)"
   ]
  },
  {
   "cell_type": "markdown",
   "id": "b82068a3",
   "metadata": {},
   "source": [
    "**Simulation.**  With everything defined, we are now ready to simulate the system for a few steps"
   ]
  },
  {
   "cell_type": "code",
   "execution_count": 7,
   "id": "eaa2462d",
   "metadata": {},
   "outputs": [
    {
     "data": {
      "image/png": "[encoded data removed]",
      "text/plain": [
       "<Figure size 432x288 with 1 Axes>"
      ]
     },
     "metadata": {
      "needs_background": "light"
     },
     "output_type": "display_data"
    }
   ],
   "source": [
    "# Simulate for N time steps\n",
    "N = 200\n",
    "x = np.zeros((3, N))  # ground truth state\n",
    "b = np.zeros((3, N))  # belief state\n",
    "\n",
    "# Suppose the initial state doesn't quite match our belief\n",
    "x[:, 0] = np.array([0.5, -0.1, 0.2])\n",
    "b[:, 0] = belief.mean()\n",
    "\n",
    "# Run the simulation\n",
    "for i in range(N-1):\n",
    "    # Compute a control using the belief in state\n",
    "    u = ilqr.policy(state=belief)\n",
    "\n",
    "    # Simulate the system forward and sample from the propogated distributions\n",
    "    x[:, i+1] = dynamics.dynamics(x[:, i], u).sample()\n",
    "    y = measurement.measurement(x[:, i+1]).sample()\n",
    "\n",
    "    # Update the belief based on the measurement we took and the control we applied\n",
    "    belief = ekf.estimate(observation=y, control=u)\n",
    "    b[:, i+1] = belief.mean()\n",
    "    \n",
    "# Plot the resulting trajectory\n",
    "import matplotlib.pyplot as plt\n",
    "plt.plot(x[0, :], x[1, :], label=\"Ground truth\")\n",
    "plt.plot(b[0, :], b[1, :], label=\"Belief\")\n",
    "plt.legend();"
   ]
  },
  {
   "cell_type": "markdown",
   "id": "88cd5d34",
   "metadata": {},
   "source": [
    "And voila!  We are able to estimate the hidden heading state and drive the vehicle to the goal state at $(x=0, y=0, \\phi=\\pi)$.  Because this system is stochastic, there will of course be some noise in the estimate and the tracking error.\n",
    "\n",
    "That's a wrap on the overview.  For next steps, check out the tutorials."
   ]
  }
 ],
 "metadata": {
  "kernelspec": {
   "display_name": "Python 3",
   "language": "python",
   "name": "python3"
  },
  "language_info": {
   "codemirror_mode": {
    "name": "ipython",
    "version": 3
   },
   "file_extension": ".py",
   "mimetype": "text/x-python",
   "name": "python",
   "nbconvert_exporter": "python",
   "pygments_lexer": "ipython3",
   "version": "3.6.9"
  }
 },
 "nbformat": 4,
 "nbformat_minor": 5
}
