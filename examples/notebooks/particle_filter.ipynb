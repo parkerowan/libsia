{
 "cells": [
  {
   "cell_type": "code",
   "execution_count": null,
   "metadata": {},
   "outputs": [],
   "source": [
    "%matplotlib inline\n",
    "\n",
    "import pysia as sia\n",
    "import numpy as np\n",
    "import matplotlib.pyplot as plt\n",
    "\n",
    "system = sia.LinearGaussian(\n",
    "    A=np.array([[1, -dt], [0, 1]]),\n",
    "    B=np.array([[dt], [0]]),\n",
    "    C=np.array([[1, 0], [0, 1]]),\n",
    "    H=np.array([[1, 0]]),\n",
    "    Q=np.array([[q00, q01], [q01, q11]]),\n",
    "    R=np.array([[sn**2]]))\n",
    "\n",
    "# Let's the write the particle filter for a Gaussian with what we have\n",
    "estimate = sia.Gaussian(mean=np.array([0, 0]), covariance=np.diag([1E-4, 1E-12]))\n",
    "\n",
    "n_steps = 60\n",
    "n_particles = 1000\n",
    "\n",
    "xp = np.uniform(-1, 1, n_particles)\n",
    "wp = np.ones((n_particles,)) / n_particles\n",
    "\n",
    "# Generic particle filter\n",
    "for k in range(1, n_steps):\n",
    "    u = 0\n",
    "    y = 0\n",
    "\n",
    "    for i in range(n_particles):\n",
    "        # Sample from the dynamics\n",
    "        xp[i,:] = system.dynamics(xp[i,:], u).sample()\n",
    "    \n",
    "        # Compute the likelihoods\n",
    "        lp[i,:] = system.measurement(xp[i,:], u).logProb(y)\n",
    "        \n",
    "    # Reweight\n",
    "    wp = wp * np.exp(lp)\n",
    "    wp = wp / wp.sum()\n",
    "    \n",
    "    # Resample...\n",
    "    # If Neff < N\n",
    "    #    systematic..."
   ]
  }
 ],
 "metadata": {
  "kernelspec": {
   "display_name": "Python 3",
   "language": "python",
   "name": "python3"
  },
  "language_info": {
   "codemirror_mode": {
    "name": "ipython",
    "version": 3
   },
   "file_extension": ".py",
   "mimetype": "text/x-python",
   "name": "python",
   "nbconvert_exporter": "python",
   "pygments_lexer": "ipython3",
   "version": "3.6.9"
  }
 },
 "nbformat": 4,
 "nbformat_minor": 4
}
