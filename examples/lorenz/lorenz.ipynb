{
 "cells": [
  {
   "cell_type": "markdown",
   "id": "9eecb66d",
   "metadata": {},
   "source": [
    "# Chaotic Lorenz attractor particle filter estimation\n",
    "This example shows state estimation to track a nonlinear system with chaotic behavior.\n",
    "\n",
    "![Chaotic Lorenz attractor particle filter estimation](./lorenz.gif)\n",
    "\n",
    "## Problem\n",
    "\n",
    "**Model.** The Lorenz attractor is a nonlinear system\n",
    "\n",
    "$$\n",
    "\\dot{x}_0 = \\sigma (x_1 - x_0) \\\\\n",
    "\\dot{x}_1 = x_0 (\\rho - x_2) - x_1 \\\\\n",
    "\\dot{x}_2 = x_0 x_1 - \\beta x_2\n",
    "$$\n",
    "where $\\rho = 28$, $\\sigma = 10$, and $\\beta = 8 / 3$ are the coefficients that lead to the famous \"butterfly\" trajectories.  Assume that Gaussian process noise is added to each state.  State trajectories are attracted to one of two local regions, and small changes in state will cause the trajectory to be pushed onto the opposing attractor.  This is challenging for estimators because this bifurcation in state trajectories will quickly deform a belief distribution away from a Gaussian into multiple modes.\n",
    "\n",
    "**Estimation.** Suppose we have a measurement model \n",
    "\n",
    "$$\n",
    "y_0 = x_0 - x_1 \\\\\n",
    "y_1 = x_2\n",
    "$$\n",
    "with additive Gaussian noise for each measurement.  The goal is to estimate $x$ from the measurements.  The animation shows the particle filter posterior density, where higher posterior weights are pink.  Because the system is nonlinear, we compare the EKF (local linearization) and particle filter (sampling-based posterior approximation).  The comparison of EKF and PF shows that the PF will out perform the EKF because it can capture the state bifurcation and multimodal posterior density.  EKF loses tracking and has a higher degree of uncertainty."
   ]
  },
  {
   "cell_type": "markdown",
   "id": "6ff6dfed",
   "metadata": {},
   "source": [
    "## Example\n",
    "\n",
    "To run the example, build and install the C++ and Python libraries from the main README instructions.  Start the docker container.\n",
    "```\n",
    "cd /libsia/examples/lorenz\n",
    "python lorenz.py --help\n",
    "python lorenz.py\n",
    "```"
   ]
  },
  {
   "cell_type": "code",
   "execution_count": 1,
   "id": "29c0225b",
   "metadata": {},
   "outputs": [
    {
     "ename": "AttributeError",
     "evalue": "module 'pysia' has no attribute 'Runner'",
     "output_type": "error",
     "traceback": [
      "\u001b[0;31m---------------------------------------------------------------------------\u001b[0m",
      "\u001b[0;31mAttributeError\u001b[0m                            Traceback (most recent call last)",
      "\u001b[0;32m<ipython-input-1-be289bd96823>\u001b[0m in \u001b[0;36m<module>\u001b[0;34m\u001b[0m\n\u001b[1;32m     12\u001b[0m      \u001b[0mvideo_name\u001b[0m\u001b[0;34m=\u001b[0m\u001b[0;34m\"lorenz-animated.mp4\"\u001b[0m\u001b[0;34m,\u001b[0m\u001b[0;34m\u001b[0m\u001b[0;34m\u001b[0m\u001b[0m\n\u001b[1;32m     13\u001b[0m      \u001b[0mdpi\u001b[0m\u001b[0;34m=\u001b[0m\u001b[0;36m150\u001b[0m\u001b[0;34m,\u001b[0m\u001b[0;34m\u001b[0m\u001b[0;34m\u001b[0m\u001b[0m\n\u001b[0;32m---> 14\u001b[0;31m      show_plots=True)\n\u001b[0m",
      "\u001b[0;32m/libsia/examples/lorenz/lorenz.py\u001b[0m in \u001b[0;36mmain\u001b[0;34m(num_steps, dt, process_noise, measurement_noise, num_particles, resample_threshold, roughening_factor, video_name, dpi, show_plots)\u001b[0m\n\u001b[1;32m    218\u001b[0m     runner, state, ekf, pf = create_estimators(dynamics, measurement, num_particles,\n\u001b[1;32m    219\u001b[0m                                                \u001b[0mresample_threshold\u001b[0m\u001b[0;34m,\u001b[0m\u001b[0;34m\u001b[0m\u001b[0;34m\u001b[0m\u001b[0m\n\u001b[0;32m--> 220\u001b[0;31m                                                roughening_factor, num_steps)\n\u001b[0m\u001b[1;32m    221\u001b[0m \u001b[0;34m\u001b[0m\u001b[0m\n\u001b[1;32m    222\u001b[0m     \u001b[0;31m# Create the animation function\u001b[0m\u001b[0;34m\u001b[0m\u001b[0;34m\u001b[0m\u001b[0;34m\u001b[0m\u001b[0m\n",
      "\u001b[0;32m/libsia/examples/lorenz/lorenz.py\u001b[0m in \u001b[0;36mcreate_estimators\u001b[0;34m(dynamics, measurement, num_particles, resample_threshold, roughening_factor, buffer_size)\u001b[0m\n\u001b[1;32m     89\u001b[0m \u001b[0;34m\u001b[0m\u001b[0m\n\u001b[1;32m     90\u001b[0m     \u001b[0;31m# Initialize the runner\u001b[0m\u001b[0;34m\u001b[0m\u001b[0;34m\u001b[0m\u001b[0;34m\u001b[0m\u001b[0m\n\u001b[0;32m---> 91\u001b[0;31m     \u001b[0mrunner\u001b[0m \u001b[0;34m=\u001b[0m \u001b[0msia\u001b[0m\u001b[0;34m.\u001b[0m\u001b[0mRunner\u001b[0m\u001b[0;34m(\u001b[0m\u001b[0;34m{\u001b[0m\u001b[0;34m\"ekf\"\u001b[0m\u001b[0;34m:\u001b[0m \u001b[0mekf\u001b[0m\u001b[0;34m,\u001b[0m \u001b[0;34m\"pf\"\u001b[0m\u001b[0;34m:\u001b[0m \u001b[0mpf\u001b[0m\u001b[0;34m}\u001b[0m\u001b[0;34m,\u001b[0m \u001b[0mbuffer_size\u001b[0m\u001b[0;34m=\u001b[0m\u001b[0mbuffer_size\u001b[0m\u001b[0;34m)\u001b[0m\u001b[0;34m\u001b[0m\u001b[0;34m\u001b[0m\u001b[0m\n\u001b[0m\u001b[1;32m     92\u001b[0m \u001b[0;34m\u001b[0m\u001b[0m\n\u001b[1;32m     93\u001b[0m     \u001b[0;32mreturn\u001b[0m \u001b[0;34m(\u001b[0m\u001b[0mrunner\u001b[0m\u001b[0;34m,\u001b[0m \u001b[0mstate\u001b[0m\u001b[0;34m,\u001b[0m \u001b[0mekf\u001b[0m\u001b[0;34m,\u001b[0m \u001b[0mpf\u001b[0m\u001b[0;34m)\u001b[0m\u001b[0;34m\u001b[0m\u001b[0;34m\u001b[0m\u001b[0m\n",
      "\u001b[0;31mAttributeError\u001b[0m: module 'pysia' has no attribute 'Runner'"
     ]
    }
   ],
   "source": [
    "# This example uses the python bindings\n",
    "from lorenz import main\n",
    "\n",
    "# This is the same as running the python script\n",
    "main(num_steps=300,\n",
    "     dt=0.01,\n",
    "     process_noise=1E-1,\n",
    "     measurement_noise=1E1,\n",
    "     num_particles=1000,\n",
    "     resample_threshold=0.4,\n",
    "     roughening_factor=2E-3,\n",
    "     video_name=\"lorenz-animated.mp4\",\n",
    "     dpi=150,\n",
    "     show_plots=True)"
   ]
  },
  {
   "cell_type": "code",
   "execution_count": null,
   "id": "8045c981",
   "metadata": {},
   "outputs": [],
   "source": []
  }
 ],
 "metadata": {
  "kernelspec": {
   "display_name": "Python 3",
   "language": "python",
   "name": "python3"
  },
  "language_info": {
   "codemirror_mode": {
    "name": "ipython",
    "version": 3
   },
   "file_extension": ".py",
   "mimetype": "text/x-python",
   "name": "python",
   "nbconvert_exporter": "python",
   "pygments_lexer": "ipython3",
   "version": "3.6.9"
  }
 },
 "nbformat": 4,
 "nbformat_minor": 5
}
